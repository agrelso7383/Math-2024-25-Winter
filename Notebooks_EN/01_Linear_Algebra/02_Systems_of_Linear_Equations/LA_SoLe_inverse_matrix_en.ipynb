{
  "cells": [
    {
      "cell_type": "markdown",
      "metadata": {
        "id": "TLzHuhdrD6V_"
      },
      "source": [
        "# Solving Systems of Linear Equations Using the Inverse Matrix Method\n",
        "\n",
        "Converting a system of linear equations to matrix form allows the use of the inverse matrix to find the solution.\n",
        "\n",
        "As an example, consider $A \\cdot X = B$, where the matrix $A_{n \\times n}$ is square and non-singular, and $X$ and $B$ are column matrices:\n",
        "\n",
        "$$\n",
        "X = \\begin{bmatrix} x_1 \\\\ x_2 \\\\ \\vdots \\\\ x_n \\end{bmatrix}, \\qquad B = \\begin{bmatrix} b_1 \\\\ b_2 \\\\ \\vdots \\\\ b_n \\end{bmatrix}\n",
        "$$\n",
        "\n",
        "The solution of the system can be found by multiplying the inverse of $A$ by $B$ on the left side:\n",
        "\n",
        "$$(A^{-1} \\cdot A) \\cdot X = A^{-1} \\cdot B$$\n",
        "\n",
        "$$1 \\cdot X = A^{-1} \\cdot B$$\n",
        "\n",
        "$$X = A^{-1} \\cdot B$$\n",
        "\n",
        "**Example**\n",
        "\n",
        "Consider the system of equations:\n",
        "\n",
        "$$\n",
        "\\begin{cases}\n",
        "x + 2z = 3, \\\\\n",
        "2x + 3y + z = 0, \\\\\n",
        "x + 3z = 1.\n",
        "\\end{cases}\n",
        "$$\n",
        "\n",
        "First, write the system of equations in matrix form:\n",
        "\n",
        "$$\n",
        "\\begin{cases}\n",
        "1 \\cdot x + 0 \\cdot y + 2 \\cdot z = 3, \\\\\n",
        "2 \\cdot x + 3 \\cdot y + 1 \\cdot z = 0, \\\\\n",
        "1 \\cdot x + 0 \\cdot y + 3 \\cdot z = 1.\n",
        "\\end{cases}\n",
        "$$\n",
        "\n",
        "$$\n",
        "\\begin{bmatrix}\n",
        "1 & 0 & 2 \\\\\n",
        "2 & 3 & 1 \\\\\n",
        "1 & 0 & 3\n",
        "\\end{bmatrix}\n",
        "\\begin{bmatrix}\n",
        "x \\\\\n",
        "y \\\\\n",
        "z\n",
        "\\end{bmatrix}\n",
        "=\n",
        "\\begin{bmatrix}\n",
        "3 \\\\\n",
        "0 \\\\\n",
        "1\n",
        "\\end{bmatrix}\n",
        "$$\n",
        "\n",
        "Solve the system by multiplying by the inverse matrix (on the correct side!):\n",
        "\n",
        "$$\n",
        "\\begin{bmatrix}\n",
        "x \\\\\n",
        "y \\\\\n",
        "z\n",
        "\\end{bmatrix}\n",
        "=\n",
        "\\begin{bmatrix}\n",
        "1 & 0 & 2 \\\\\n",
        "2 & 3 & 1 \\\\\n",
        "1 & 0 & 3\n",
        "\\end{bmatrix}^{-1}\n",
        "\\begin{bmatrix}\n",
        "3 \\\\\n",
        "0 \\\\\n",
        "1\n",
        "\\end{bmatrix}\n",
        "$$\n",
        "\n",
        "Calculate the inverse matrix:\n",
        "\n",
        "$$\n",
        "\\begin{bmatrix}\n",
        "1 & 0 & 2 \\\\\n",
        "2 & 3 & 1 \\\\\n",
        "1 & 0 & 3\n",
        "\\end{bmatrix}^{-1}\n",
        "=\n",
        "\\begin{bmatrix}\n",
        " 4 &  0 & -2 \\\\\n",
        "-3 &  1 &  1 \\\\\n",
        "-1 &  0 &  1\n",
        "\\end{bmatrix}\n",
        "$$\n",
        "\n",
        "Multiply the matrices:\n",
        "\n",
        "$$\n",
        "\\begin{bmatrix}\n",
        "x \\\\\n",
        "y \\\\\n",
        "z\n",
        "\\end{bmatrix}\n",
        "=\n",
        "\\begin{bmatrix}\n",
        " 4 &  0 & -2 \\\\\n",
        "-3 &  1 &  1 \\\\\n",
        "-1 &  0 &  1\n",
        "\\end{bmatrix}\n",
        "\\begin{bmatrix}\n",
        "3 \\\\\n",
        "0 \\\\\n",
        "1\n",
        "\\end{bmatrix}\n",
        "=\n",
        "\\begin{bmatrix}\n",
        "7 \\\\\n",
        "-4 \\\\\n",
        "-2\n",
        "\\end{bmatrix}\n",
        "$$"
      ]
    },
    {
      "cell_type": "code",
      "execution_count": 1,
      "metadata": {
        "id": "9Xi8m4IED6WD",
        "outputId": "11cdeee3-fac1-4142-923a-f663f2a09c4f",
        "colab": {
          "base_uri": "https://localhost:8080/",
          "height": 78
        }
      },
      "outputs": [
        {
          "output_type": "execute_result",
          "data": {
            "text/plain": [
              "Matrix([\n",
              "[ 7],\n",
              "[-4],\n",
              "[-2]])"
            ],
            "text/latex": "$\\displaystyle \\left[\\begin{matrix}7\\\\-4\\\\-2\\end{matrix}\\right]$"
          },
          "metadata": {},
          "execution_count": 1
        }
      ],
      "source": [
        "# ## Solving Systems of Linear Equations Using the Inverse Matrix Method\n",
        "\n",
        "import sympy as sp\n",
        "\n",
        "# Coefficient matrix\n",
        "A = sp.Matrix([\n",
        "    [1, 0, 2],\n",
        "    [2, 3, 1],\n",
        "    [1, 0, 3]\n",
        "])\n",
        "\n",
        "# Constant terms vector\n",
        "B =  sp.Matrix([\n",
        "    [3],\n",
        "    [0],\n",
        "    [1]\n",
        "])\n",
        "# Inverse matrix\n",
        "A_inv = A.inv()\n",
        "\n",
        "# Solution of the system of equations\n",
        "X = A_inv * B\n",
        "X"
      ]
    },
    {
      "cell_type": "markdown",
      "metadata": {
        "id": "Lhf1ZpYVD6WG"
      },
      "source": [
        "---\n",
        "\n",
        "## Exercises for Students\n",
        "\n",
        "1. Solve the system of linear equations using the inverse matrix method:\n",
        "\n",
        "$$\n",
        "\\begin{cases}\n",
        "x + 2y + 3z = 5, \\\\\n",
        "2y + 3z = 4, \\\\\n",
        "3z = 3.\n",
        "\\end{cases}\n",
        "$$\n",
        "\n",
        "2. Solve the system of linear equations using the inverse matrix method:\n",
        "\n",
        "$$\n",
        "\\begin{cases}\n",
        "x_1 + 2x_2 + 3x_3 = 41, \\\\\n",
        "4x_1 + 5x_2 + 6x_3 = 93, \\\\\n",
        "7x_1 + 8x_2 + 9x_3 = 145.\n",
        "\\end{cases}\n",
        "$$"
      ]
    },
    {
      "cell_type": "code",
      "source": [
        "# ## EXERCISE 1\n",
        "\n",
        "import sympy as sp\n",
        "\n",
        "# Coefficient matrix\n",
        "A = sp.Matrix([\n",
        "    [1, 2, 3],\n",
        "    [0, 2, 3],\n",
        "    [0, 0, 3]\n",
        "])\n",
        "\n",
        "# Constant terms vector\n",
        "B =  sp.Matrix([\n",
        "    [5],\n",
        "    [4],\n",
        "    [3]\n",
        "])\n",
        "# Inverse matrix\n",
        "A_inv = A.inv()\n",
        "\n",
        "# Solution of the system of equations\n",
        "X = A_inv * B\n",
        "X"
      ],
      "metadata": {
        "id": "_IT3bx-PEMxs",
        "outputId": "c2ff62ca-7f09-4990-957c-229c102dbdf3",
        "colab": {
          "base_uri": "https://localhost:8080/",
          "height": 78
        }
      },
      "execution_count": 2,
      "outputs": [
        {
          "output_type": "execute_result",
          "data": {
            "text/plain": [
              "Matrix([\n",
              "[  1],\n",
              "[1/2],\n",
              "[  1]])"
            ],
            "text/latex": "$\\displaystyle \\left[\\begin{matrix}1\\\\\\frac{1}{2}\\\\1\\end{matrix}\\right]$"
          },
          "metadata": {},
          "execution_count": 2
        }
      ]
    },
    {
      "cell_type": "code",
      "source": [
        "# ## EXERCISE 1\n",
        "\n",
        "import sympy as sp\n",
        "\n",
        "# Coefficient matrix\n",
        "A = sp.Matrix([\n",
        "    [1, 2, 3],\n",
        "    [4, 5, 6],\n",
        "    [7, 8, 9]\n",
        "])\n",
        "\n",
        "# Constant terms vector\n",
        "B =  sp.Matrix([\n",
        "    [41],\n",
        "    [93],\n",
        "    [145]\n",
        "])\n",
        "# Inverse matrix can't be possible because the determinant is 0\n",
        "\n"
      ],
      "metadata": {
        "id": "hVMNIwwaGAv5"
      },
      "execution_count": 4,
      "outputs": []
    }
  ],
  "metadata": {
    "kernelspec": {
      "display_name": "Python 3",
      "language": "python",
      "name": "python3"
    },
    "language_info": {
      "codemirror_mode": {
        "name": "ipython",
        "version": 3
      },
      "file_extension": ".py",
      "mimetype": "text/x-python",
      "name": "python",
      "nbconvert_exporter": "python",
      "pygments_lexer": "ipython3",
      "version": "3.11.9"
    },
    "colab": {
      "provenance": []
    }
  },
  "nbformat": 4,
  "nbformat_minor": 0
}