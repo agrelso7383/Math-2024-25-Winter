{
  "cells": [
    {
      "cell_type": "markdown",
      "metadata": {
        "id": "qxt7rfUAvYNK"
      },
      "source": [
        "# School Method for Solving Systems of Linear Equations"
      ]
    },
    {
      "cell_type": "code",
      "execution_count": 1,
      "metadata": {
        "id": "dPDddggfvYNN"
      },
      "outputs": [],
      "source": [
        "import sympy as sp\n",
        "from sympy import symbols, Eq, expand, solve\n",
        "\n",
        "class EnhancedEq(Eq):\n",
        "    def __add__(self, other):\n",
        "        return EnhancedEq(self.lhs + other.lhs, self.rhs + other.rhs)\n",
        "\n",
        "    def __sub__(self, other):\n",
        "        return EnhancedEq(self.lhs - other.lhs, self.rhs - other.rhs)\n",
        "\n",
        "    def __mul__(self, scalar):\n",
        "        return EnhancedEq(scalar * self.lhs, scalar * self.rhs)\n",
        "\n",
        "    def __rmul__(self, scalar):\n",
        "        return self.__mul__(scalar)\n",
        "\n",
        "    def simplify(self):\n",
        "        return EnhancedEq(expand(self.lhs), expand(self.rhs))\n",
        "\n",
        "    def substitute(self, *args, **kwargs):\n",
        "        return EnhancedEq(self.lhs.subs(*args, **kwargs), self.rhs.subs(*args, **kwargs))\n",
        "\n",
        "    def solve_for(self, symbol):\n",
        "        return solve(self, symbol)\n",
        "\n",
        "# Example usage:\n",
        "x, y = symbols('x y')\n",
        "\n",
        "# Define equations\n",
        "eq1 = EnhancedEq(2*x + y, 5)\n",
        "eq2 = EnhancedEq(x - y, 1)"
      ]
    },
    {
      "cell_type": "code",
      "execution_count": 2,
      "metadata": {
        "id": "6egQh_tnvYNQ",
        "outputId": "8e7e434b-cd29-4bba-f7a6-9828fd61851d",
        "colab": {
          "base_uri": "https://localhost:8080/",
          "height": 56
        }
      },
      "outputs": [
        {
          "output_type": "stream",
          "name": "stdout",
          "text": [
            "First equation:\n"
          ]
        },
        {
          "output_type": "execute_result",
          "data": {
            "text/plain": [
              "Eq(2*x + y, 5)"
            ],
            "text/latex": "$\\displaystyle 2 x + y = 5$"
          },
          "metadata": {},
          "execution_count": 2
        }
      ],
      "source": [
        "print(\"First equation:\")\n",
        "eq1"
      ]
    },
    {
      "cell_type": "code",
      "execution_count": 3,
      "metadata": {
        "id": "d4p6tEawvYNR",
        "outputId": "50f3c1d7-f2ee-4993-955c-4a03fd5bb0a2",
        "colab": {
          "base_uri": "https://localhost:8080/",
          "height": 56
        }
      },
      "outputs": [
        {
          "output_type": "stream",
          "name": "stdout",
          "text": [
            "Second equation:\n"
          ]
        },
        {
          "output_type": "execute_result",
          "data": {
            "text/plain": [
              "Eq(x - y, 1)"
            ],
            "text/latex": "$\\displaystyle x - y = 1$"
          },
          "metadata": {},
          "execution_count": 3
        }
      ],
      "source": [
        "print(\"Second equation:\")\n",
        "eq2"
      ]
    },
    {
      "cell_type": "code",
      "execution_count": 4,
      "metadata": {
        "id": "1XnPHbKgvYNS",
        "outputId": "fb2e4dd6-fcb6-40b2-98b1-a3220372e221",
        "colab": {
          "base_uri": "https://localhost:8080/",
          "height": 39
        }
      },
      "outputs": [
        {
          "output_type": "execute_result",
          "data": {
            "text/plain": [
              "Eq(3*x, 6)"
            ],
            "text/latex": "$\\displaystyle 3 x = 6$"
          },
          "metadata": {},
          "execution_count": 4
        }
      ],
      "source": [
        "# Add the equations\n",
        "eq3 = eq1 + eq2\n",
        "eq3"
      ]
    },
    {
      "cell_type": "code",
      "execution_count": 5,
      "metadata": {
        "id": "k8H_mhg7vYNS",
        "outputId": "70eeccdb-769f-4d10-87ea-d0e4ff4d676b",
        "colab": {
          "base_uri": "https://localhost:8080/",
          "height": 37
        }
      },
      "outputs": [
        {
          "output_type": "execute_result",
          "data": {
            "text/plain": [
              "2"
            ],
            "text/latex": "$\\displaystyle 2$"
          },
          "metadata": {},
          "execution_count": 5
        }
      ],
      "source": [
        "# We have an equation with one unknown, so we can solve it\n",
        "sol_x = eq3.solve_for(x)[0]\n",
        "sol_x"
      ]
    },
    {
      "cell_type": "code",
      "execution_count": 6,
      "metadata": {
        "id": "9uXmRt77vYNS",
        "outputId": "d8648fdf-341c-4837-b9f7-266a975ccd13",
        "colab": {
          "base_uri": "https://localhost:8080/",
          "height": 39
        }
      },
      "outputs": [
        {
          "output_type": "execute_result",
          "data": {
            "text/plain": [
              "Eq(2 - y, 1)"
            ],
            "text/latex": "$\\displaystyle 2 - y = 1$"
          },
          "metadata": {},
          "execution_count": 6
        }
      ],
      "source": [
        "# Substitute the solution into equation 2\n",
        "eq2 = eq2.substitute(x, sol_x)\n",
        "eq2"
      ]
    },
    {
      "cell_type": "code",
      "execution_count": 7,
      "metadata": {
        "id": "bSocFUNRvYNT",
        "outputId": "8ec65ce3-6dce-4d2f-fbf6-12149122af7d",
        "colab": {
          "base_uri": "https://localhost:8080/",
          "height": 37
        }
      },
      "outputs": [
        {
          "output_type": "execute_result",
          "data": {
            "text/plain": [
              "1"
            ],
            "text/latex": "$\\displaystyle 1$"
          },
          "metadata": {},
          "execution_count": 7
        }
      ],
      "source": [
        "# We get an equation with one unknown, so we can solve it\n",
        "eq2.solve_for(y)[0]"
      ]
    },
    {
      "cell_type": "code",
      "execution_count": 8,
      "metadata": {
        "id": "9RvkdCtjvYNT",
        "outputId": "98314e55-dae4-4a37-a53f-31c1bdc38941",
        "colab": {
          "base_uri": "https://localhost:8080/"
        }
      },
      "outputs": [
        {
          "output_type": "execute_result",
          "data": {
            "text/plain": [
              "{x: 2, y: 1}"
            ]
          },
          "metadata": {},
          "execution_count": 8
        }
      ],
      "source": [
        "# Thus x=2, y=1\n",
        "# Verify with sympy\n",
        "sp.solve([eq1, eq2])"
      ]
    },
    {
      "cell_type": "markdown",
      "metadata": {
        "id": "yBzDAdyFvYNT"
      },
      "source": [
        "---\n",
        "\n",
        "### Exercises for Students\n",
        "\n",
        "Solve the following systems of equations similarly to the example above:\n",
        "\n",
        "* $3x-2y=5, \\quad 2x+3y=7$,\n",
        "* $2x-3y=10, \\quad 4x+5y=20$,\n",
        "* $2x - y + z = 3, \\quad x + 2y - z = 1, \\quad 3x - y + 2z = 11$.\n",
        "* $2x-3y+4z+2t=2, \\quad 3x+2y-5z+3t=3, \\quad 4x-3y+2z-5t=4, \\quad 5x+4y-3z+2t=5$."
      ]
    },
    {
      "cell_type": "code",
      "source": [
        "# FIRST\n",
        "x, y = symbols('x y')\n",
        "\n",
        "# Define equations\n",
        "eq1 = EnhancedEq(3*x - 2*y, 5)\n",
        "eq2 = EnhancedEq(2*x + 3*y, 7)"
      ],
      "metadata": {
        "id": "2h57JnSpw-bO"
      },
      "execution_count": 57,
      "outputs": []
    },
    {
      "cell_type": "code",
      "source": [
        "print(\"First equation:\")\n",
        "eq1"
      ],
      "metadata": {
        "id": "gg735Yfmxd91",
        "outputId": "a35d18f3-c61b-4fe7-c623-8f67921d5c58",
        "colab": {
          "base_uri": "https://localhost:8080/",
          "height": 56
        }
      },
      "execution_count": 58,
      "outputs": [
        {
          "output_type": "stream",
          "name": "stdout",
          "text": [
            "First equation:\n"
          ]
        },
        {
          "output_type": "execute_result",
          "data": {
            "text/plain": [
              "Eq(3*x - 2*y, 5)"
            ],
            "text/latex": "$\\displaystyle 3 x - 2 y = 5$"
          },
          "metadata": {},
          "execution_count": 58
        }
      ]
    },
    {
      "cell_type": "code",
      "source": [
        "print(\"Second equation:\")\n",
        "eq2"
      ],
      "metadata": {
        "id": "UXfEWeyuxhIS",
        "outputId": "d4a9cb19-55fd-42f0-ca78-b4dcee7028c5",
        "colab": {
          "base_uri": "https://localhost:8080/",
          "height": 56
        }
      },
      "execution_count": 59,
      "outputs": [
        {
          "output_type": "stream",
          "name": "stdout",
          "text": [
            "Second equation:\n"
          ]
        },
        {
          "output_type": "execute_result",
          "data": {
            "text/plain": [
              "Eq(2*x + 3*y, 7)"
            ],
            "text/latex": "$\\displaystyle 2 x + 3 y = 7$"
          },
          "metadata": {},
          "execution_count": 59
        }
      ]
    },
    {
      "cell_type": "code",
      "source": [
        "eq3 = -3/2*eq2\n",
        "eq3"
      ],
      "metadata": {
        "id": "2CaTl5YhxjkS",
        "outputId": "0ae748e0-c9dc-44d2-9ca3-30f51e65c45a",
        "colab": {
          "base_uri": "https://localhost:8080/",
          "height": 39
        }
      },
      "execution_count": 60,
      "outputs": [
        {
          "output_type": "execute_result",
          "data": {
            "text/plain": [
              "Eq(-3.0*x - 4.5*y, -10.5)"
            ],
            "text/latex": "$\\displaystyle - 3.0 x - 4.5 y = -10.5$"
          },
          "metadata": {},
          "execution_count": 60
        }
      ]
    },
    {
      "cell_type": "code",
      "source": [
        "eq4= eq3 + eq1\n",
        "eq4"
      ],
      "metadata": {
        "id": "kEqIOA1Yxz03",
        "outputId": "06c98106-753a-474b-bd3e-fb13a330cf3d",
        "colab": {
          "base_uri": "https://localhost:8080/",
          "height": 39
        }
      },
      "execution_count": 61,
      "outputs": [
        {
          "output_type": "execute_result",
          "data": {
            "text/plain": [
              "Eq(-6.5*y, -5.5)"
            ],
            "text/latex": "$\\displaystyle - 6.5 y = -5.5$"
          },
          "metadata": {},
          "execution_count": 61
        }
      ]
    },
    {
      "cell_type": "code",
      "source": [
        "sol_y = eq4.solve_for(y)[0]\n",
        "sol_y"
      ],
      "metadata": {
        "id": "J23-OBnkx7aG",
        "outputId": "c38784ce-82cd-4f3a-d3a9-d1f4735dabed",
        "colab": {
          "base_uri": "https://localhost:8080/",
          "height": 37
        }
      },
      "execution_count": 62,
      "outputs": [
        {
          "output_type": "execute_result",
          "data": {
            "text/plain": [
              "0.846153846153846"
            ],
            "text/latex": "$\\displaystyle 0.846153846153846$"
          },
          "metadata": {},
          "execution_count": 62
        }
      ]
    },
    {
      "cell_type": "code",
      "source": [
        "eq2 = eq2.substitute(y, sol_y)\n",
        "eq2"
      ],
      "metadata": {
        "id": "O17hvSyXyFE1",
        "outputId": "c46ff38d-c61b-4a84-8934-9c858c696ff7",
        "colab": {
          "base_uri": "https://localhost:8080/",
          "height": 39
        }
      },
      "execution_count": 63,
      "outputs": [
        {
          "output_type": "execute_result",
          "data": {
            "text/plain": [
              "Eq(2*x + 2.53846153846154, 7)"
            ],
            "text/latex": "$\\displaystyle 2 x + 2.53846153846154 = 7$"
          },
          "metadata": {},
          "execution_count": 63
        }
      ]
    },
    {
      "cell_type": "code",
      "source": [
        "eq2.solve_for(x)[0]"
      ],
      "metadata": {
        "id": "2lMsMdq9yTLe",
        "outputId": "2bc31e06-f7ff-4e14-8673-0eca310de913",
        "colab": {
          "base_uri": "https://localhost:8080/",
          "height": 37
        }
      },
      "execution_count": 64,
      "outputs": [
        {
          "output_type": "execute_result",
          "data": {
            "text/plain": [
              "2.23076923076923"
            ],
            "text/latex": "$\\displaystyle 2.23076923076923$"
          },
          "metadata": {},
          "execution_count": 64
        }
      ]
    },
    {
      "cell_type": "code",
      "source": [
        "sp.solve([eq1, eq2])"
      ],
      "metadata": {
        "id": "Ofi32PDXyaDF",
        "outputId": "da3c4452-3152-4c9e-c7ea-cfaae9aa219d",
        "colab": {
          "base_uri": "https://localhost:8080/"
        }
      },
      "execution_count": 65,
      "outputs": [
        {
          "output_type": "execute_result",
          "data": {
            "text/plain": [
              "{x: 2.23076923076923, y: 0.846153846153846}"
            ]
          },
          "metadata": {},
          "execution_count": 65
        }
      ]
    },
    {
      "cell_type": "code",
      "source": [
        "#SECOND\n",
        "x, y = symbols('x y')\n",
        "\n",
        "# Define equations\n",
        "eq1 = EnhancedEq(2*x - 3*y, 10)\n",
        "eq2 = EnhancedEq(4*x + 5*y, 20)"
      ],
      "metadata": {
        "id": "dHU1697TyfpV"
      },
      "execution_count": 66,
      "outputs": []
    },
    {
      "cell_type": "code",
      "source": [
        "print(\"First equation:\")\n",
        "eq1"
      ],
      "metadata": {
        "id": "cp6CZBh4ynlk",
        "outputId": "c4905ede-9a8b-4a8c-9b7b-f17e0d513de5",
        "colab": {
          "base_uri": "https://localhost:8080/",
          "height": 56
        }
      },
      "execution_count": 67,
      "outputs": [
        {
          "output_type": "stream",
          "name": "stdout",
          "text": [
            "First equation:\n"
          ]
        },
        {
          "output_type": "execute_result",
          "data": {
            "text/plain": [
              "Eq(2*x - 3*y, 10)"
            ],
            "text/latex": "$\\displaystyle 2 x - 3 y = 10$"
          },
          "metadata": {},
          "execution_count": 67
        }
      ]
    },
    {
      "cell_type": "code",
      "source": [
        "print(\"Second equation:\")\n",
        "eq2"
      ],
      "metadata": {
        "id": "Qcv9I1_6ypjX",
        "outputId": "6d1ee7be-88c7-4eed-ee61-148db1f675f1",
        "colab": {
          "base_uri": "https://localhost:8080/",
          "height": 56
        }
      },
      "execution_count": 68,
      "outputs": [
        {
          "output_type": "stream",
          "name": "stdout",
          "text": [
            "Second equation:\n"
          ]
        },
        {
          "output_type": "execute_result",
          "data": {
            "text/plain": [
              "Eq(4*x + 5*y, 20)"
            ],
            "text/latex": "$\\displaystyle 4 x + 5 y = 20$"
          },
          "metadata": {},
          "execution_count": 68
        }
      ]
    },
    {
      "cell_type": "code",
      "source": [
        "eq3= -2*eq1\n",
        "eq3"
      ],
      "metadata": {
        "id": "MtV1iQeIys4n",
        "outputId": "ac363abb-037c-4f9a-e921-a778f5d96bdc",
        "colab": {
          "base_uri": "https://localhost:8080/",
          "height": 39
        }
      },
      "execution_count": 69,
      "outputs": [
        {
          "output_type": "execute_result",
          "data": {
            "text/plain": [
              "Eq(-4*x + 6*y, -20)"
            ],
            "text/latex": "$\\displaystyle - 4 x + 6 y = -20$"
          },
          "metadata": {},
          "execution_count": 69
        }
      ]
    },
    {
      "cell_type": "code",
      "source": [
        "eq4= eq3 + eq2\n",
        "eq4"
      ],
      "metadata": {
        "id": "ffcSVw2ezAcC",
        "outputId": "92df111d-c7b1-43dd-e923-b83c7aa581b3",
        "colab": {
          "base_uri": "https://localhost:8080/",
          "height": 39
        }
      },
      "execution_count": 70,
      "outputs": [
        {
          "output_type": "execute_result",
          "data": {
            "text/plain": [
              "Eq(11*y, 0)"
            ],
            "text/latex": "$\\displaystyle 11 y = 0$"
          },
          "metadata": {},
          "execution_count": 70
        }
      ]
    },
    {
      "cell_type": "code",
      "source": [
        "sol_y = eq4.solve_for(y)[0]\n",
        "sol_y"
      ],
      "metadata": {
        "id": "KbXcNV2pzEcL",
        "outputId": "98670ad2-4359-45cb-d7b4-50aa152c8e13",
        "colab": {
          "base_uri": "https://localhost:8080/",
          "height": 37
        }
      },
      "execution_count": 71,
      "outputs": [
        {
          "output_type": "execute_result",
          "data": {
            "text/plain": [
              "0"
            ],
            "text/latex": "$\\displaystyle 0$"
          },
          "metadata": {},
          "execution_count": 71
        }
      ]
    },
    {
      "cell_type": "code",
      "source": [
        "eq2 = eq2.substitute(y, sol_y)\n",
        "eq2"
      ],
      "metadata": {
        "id": "ynE10hUUzHCM",
        "outputId": "4ef9bbf9-aff8-4bdc-ab82-abbd59e8c73a",
        "colab": {
          "base_uri": "https://localhost:8080/",
          "height": 39
        }
      },
      "execution_count": 72,
      "outputs": [
        {
          "output_type": "execute_result",
          "data": {
            "text/plain": [
              "Eq(4*x, 20)"
            ],
            "text/latex": "$\\displaystyle 4 x = 20$"
          },
          "metadata": {},
          "execution_count": 72
        }
      ]
    },
    {
      "cell_type": "code",
      "source": [
        "eq2.solve_for(x)[0]"
      ],
      "metadata": {
        "id": "iUQiLyOZzJli",
        "outputId": "1f22f6fd-f718-41a2-8c8e-5f5281998cc4",
        "colab": {
          "base_uri": "https://localhost:8080/",
          "height": 37
        }
      },
      "execution_count": 73,
      "outputs": [
        {
          "output_type": "execute_result",
          "data": {
            "text/plain": [
              "5"
            ],
            "text/latex": "$\\displaystyle 5$"
          },
          "metadata": {},
          "execution_count": 73
        }
      ]
    },
    {
      "cell_type": "code",
      "source": [
        "sp.solve([eq1, eq2])"
      ],
      "metadata": {
        "id": "s0JcV93HzLuv",
        "outputId": "df2ae03f-3e3b-4065-88d7-248faff93b5f",
        "colab": {
          "base_uri": "https://localhost:8080/"
        }
      },
      "execution_count": 74,
      "outputs": [
        {
          "output_type": "execute_result",
          "data": {
            "text/plain": [
              "{x: 5, y: 0}"
            ]
          },
          "metadata": {},
          "execution_count": 74
        }
      ]
    },
    {
      "cell_type": "code",
      "source": [
        "x, y, z = symbols('x y z')\n",
        "\n",
        "# Define equations\n",
        "eq1 = EnhancedEq(2*x - y + z, 3)\n",
        "eq2 = EnhancedEq(x + 2*y - z, 1)\n",
        "eq3 = EnhancedEq(3*x - y + 2*z, 11)"
      ],
      "metadata": {
        "id": "iLU4wIHP4R5d"
      },
      "execution_count": 75,
      "outputs": []
    },
    {
      "cell_type": "code",
      "source": [
        "print(\"First equation:\")\n",
        "eq1"
      ],
      "metadata": {
        "id": "_FlwfpwM6mkC",
        "outputId": "2cbe9434-d9f7-43f2-917d-17937e901988",
        "colab": {
          "base_uri": "https://localhost:8080/",
          "height": 56
        }
      },
      "execution_count": 76,
      "outputs": [
        {
          "output_type": "stream",
          "name": "stdout",
          "text": [
            "First equation:\n"
          ]
        },
        {
          "output_type": "execute_result",
          "data": {
            "text/plain": [
              "Eq(2*x - y + z, 3)"
            ],
            "text/latex": "$\\displaystyle 2 x - y + z = 3$"
          },
          "metadata": {},
          "execution_count": 76
        }
      ]
    },
    {
      "cell_type": "code",
      "source": [
        "print(\"Second equation:\")\n",
        "eq2"
      ],
      "metadata": {
        "id": "otsHmGV26r43",
        "outputId": "2dce29bf-2b5a-4fa6-b38d-33b76b74e89d",
        "colab": {
          "base_uri": "https://localhost:8080/",
          "height": 56
        }
      },
      "execution_count": 77,
      "outputs": [
        {
          "output_type": "stream",
          "name": "stdout",
          "text": [
            "Second equation:\n"
          ]
        },
        {
          "output_type": "execute_result",
          "data": {
            "text/plain": [
              "Eq(x + 2*y - z, 1)"
            ],
            "text/latex": "$\\displaystyle x + 2 y - z = 1$"
          },
          "metadata": {},
          "execution_count": 77
        }
      ]
    },
    {
      "cell_type": "code",
      "source": [
        "print(\"Third equation:\")\n",
        "eq3"
      ],
      "metadata": {
        "id": "xNZxBFz66uQi",
        "outputId": "5ebbed40-df4c-4111-b477-a4580eea9803",
        "colab": {
          "base_uri": "https://localhost:8080/",
          "height": 56
        }
      },
      "execution_count": 78,
      "outputs": [
        {
          "output_type": "stream",
          "name": "stdout",
          "text": [
            "Third equation:\n"
          ]
        },
        {
          "output_type": "execute_result",
          "data": {
            "text/plain": [
              "Eq(3*x - y + 2*z, 11)"
            ],
            "text/latex": "$\\displaystyle 3 x - y + 2 z = 11$"
          },
          "metadata": {},
          "execution_count": 78
        }
      ]
    },
    {
      "cell_type": "code",
      "source": [
        "eq4= -2*eq2 + eq1\n",
        "eq4"
      ],
      "metadata": {
        "id": "mX-zE0U26y-P",
        "outputId": "b6e46376-9f30-4e16-d3f6-5c39a7faa908",
        "colab": {
          "base_uri": "https://localhost:8080/",
          "height": 39
        }
      },
      "execution_count": 79,
      "outputs": [
        {
          "output_type": "execute_result",
          "data": {
            "text/plain": [
              "Eq(-5*y + 3*z, 1)"
            ],
            "text/latex": "$\\displaystyle - 5 y + 3 z = 1$"
          },
          "metadata": {},
          "execution_count": 79
        }
      ]
    },
    {
      "cell_type": "code",
      "source": [
        "eq5= -3*eq2 + eq3\n",
        "eq5"
      ],
      "metadata": {
        "id": "XHHsfyc27K7h",
        "outputId": "0a5d9732-efda-41f7-dc16-c4e49d161fe5",
        "colab": {
          "base_uri": "https://localhost:8080/",
          "height": 39
        }
      },
      "execution_count": 80,
      "outputs": [
        {
          "output_type": "execute_result",
          "data": {
            "text/plain": [
              "Eq(-7*y + 5*z, 8)"
            ],
            "text/latex": "$\\displaystyle - 7 y + 5 z = 8$"
          },
          "metadata": {},
          "execution_count": 80
        }
      ]
    },
    {
      "cell_type": "code",
      "source": [
        "eq6= -5/3*eq4\n",
        "eq6"
      ],
      "metadata": {
        "id": "AK3QZhtO7ZAh",
        "outputId": "59995c88-27ba-4d55-a968-68743f36edef",
        "colab": {
          "base_uri": "https://localhost:8080/",
          "height": 39
        }
      },
      "execution_count": 81,
      "outputs": [
        {
          "output_type": "execute_result",
          "data": {
            "text/plain": [
              "Eq(8.33333333333333*y - 5.0*z, -1.66666666666667)"
            ],
            "text/latex": "$\\displaystyle 8.33333333333333 y - 5.0 z = -1.66666666666667$"
          },
          "metadata": {},
          "execution_count": 81
        }
      ]
    },
    {
      "cell_type": "code",
      "source": [
        "eq7= eq6 + eq5\n",
        "eq7"
      ],
      "metadata": {
        "id": "u6DMALaG7dWe",
        "outputId": "9d030cd4-75a5-40a2-a7f0-13ce2b339b96",
        "colab": {
          "base_uri": "https://localhost:8080/",
          "height": 39
        }
      },
      "execution_count": 82,
      "outputs": [
        {
          "output_type": "execute_result",
          "data": {
            "text/plain": [
              "Eq(1.33333333333333*y, 6.33333333333333)"
            ],
            "text/latex": "$\\displaystyle 1.33333333333333 y = 6.33333333333333$"
          },
          "metadata": {},
          "execution_count": 82
        }
      ]
    },
    {
      "cell_type": "code",
      "source": [
        "sol_y = eq7.solve_for(y)[0]\n",
        "sol_y"
      ],
      "metadata": {
        "id": "jUcNv9CO7hYY",
        "outputId": "806b09b0-1606-425c-d493-1b8d4502fdd4",
        "colab": {
          "base_uri": "https://localhost:8080/",
          "height": 37
        }
      },
      "execution_count": 83,
      "outputs": [
        {
          "output_type": "execute_result",
          "data": {
            "text/plain": [
              "4.75000000000000"
            ],
            "text/latex": "$\\displaystyle 4.75$"
          },
          "metadata": {},
          "execution_count": 83
        }
      ]
    },
    {
      "cell_type": "code",
      "source": [
        "eq5 = eq5.substitute(y, sol_y)\n",
        "eq5"
      ],
      "metadata": {
        "id": "Ij1XuDqe7nXv",
        "outputId": "0b5a8e97-bb65-4192-d7b5-1f013974b013",
        "colab": {
          "base_uri": "https://localhost:8080/",
          "height": 39
        }
      },
      "execution_count": 84,
      "outputs": [
        {
          "output_type": "execute_result",
          "data": {
            "text/plain": [
              "Eq(5*z - 33.25, 8)"
            ],
            "text/latex": "$\\displaystyle 5 z - 33.25 = 8$"
          },
          "metadata": {},
          "execution_count": 84
        }
      ]
    },
    {
      "cell_type": "code",
      "source": [
        "sol_z = eq5.solve_for(z)[0]\n",
        "sol_z"
      ],
      "metadata": {
        "id": "IY4mII7t7syp",
        "outputId": "5b912ac2-0de7-4666-9f12-8096e1e1de50",
        "colab": {
          "base_uri": "https://localhost:8080/",
          "height": 37
        }
      },
      "execution_count": 85,
      "outputs": [
        {
          "output_type": "execute_result",
          "data": {
            "text/plain": [
              "8.25000000000000"
            ],
            "text/latex": "$\\displaystyle 8.25$"
          },
          "metadata": {},
          "execution_count": 85
        }
      ]
    },
    {
      "cell_type": "code",
      "source": [
        "eq3= eq3.substitute(z, sol_z)\n",
        "eq3"
      ],
      "metadata": {
        "id": "lVzN5E-L9URI",
        "outputId": "1794f627-0e50-4c2a-ee3c-b1528e6be250",
        "colab": {
          "base_uri": "https://localhost:8080/",
          "height": 39
        }
      },
      "execution_count": 86,
      "outputs": [
        {
          "output_type": "execute_result",
          "data": {
            "text/plain": [
              "Eq(3*x - y + 16.5, 11)"
            ],
            "text/latex": "$\\displaystyle 3 x - y + 16.5 = 11$"
          },
          "metadata": {},
          "execution_count": 86
        }
      ]
    },
    {
      "cell_type": "code",
      "source": [
        "eq3= eq3.substitute(y, sol_y)\n",
        "eq3"
      ],
      "metadata": {
        "id": "6wziqC6F9d83",
        "outputId": "af33940d-2aae-401e-ff91-47fb3c2b8fec",
        "colab": {
          "base_uri": "https://localhost:8080/",
          "height": 39
        }
      },
      "execution_count": 87,
      "outputs": [
        {
          "output_type": "execute_result",
          "data": {
            "text/plain": [
              "Eq(3*x + 11.75, 11)"
            ],
            "text/latex": "$\\displaystyle 3 x + 11.75 = 11$"
          },
          "metadata": {},
          "execution_count": 87
        }
      ]
    },
    {
      "cell_type": "code",
      "source": [
        "eq3.solve_for(x)[0]"
      ],
      "metadata": {
        "id": "EnXDsbzb9ksa",
        "outputId": "12fd33d9-990b-4a2b-e4b3-58835e1a9ebc",
        "colab": {
          "base_uri": "https://localhost:8080/",
          "height": 37
        }
      },
      "execution_count": 88,
      "outputs": [
        {
          "output_type": "execute_result",
          "data": {
            "text/plain": [
              "-0.250000000000000"
            ],
            "text/latex": "$\\displaystyle -0.25$"
          },
          "metadata": {},
          "execution_count": 88
        }
      ]
    },
    {
      "cell_type": "code",
      "source": [
        "sp.solve([eq1, eq2, eq3])"
      ],
      "metadata": {
        "id": "2K9Buk7i9qxf",
        "outputId": "a0ddcf0a-8c3b-49bd-dbdb-8fde7e9973b2",
        "colab": {
          "base_uri": "https://localhost:8080/"
        }
      },
      "execution_count": 89,
      "outputs": [
        {
          "output_type": "execute_result",
          "data": {
            "text/plain": [
              "{x: -0.250000000000000, y: 4.75000000000000, z: 8.25000000000000}"
            ]
          },
          "metadata": {},
          "execution_count": 89
        }
      ]
    },
    {
      "cell_type": "code",
      "source": [
        "# FOURTH\n",
        "x, y, z, t = symbols('x y z t')\n",
        "\n",
        "# Define equations\n",
        "eq1 = EnhancedEq(2*x - 3*y + 4*z +2*t, 2)\n",
        "eq2 = EnhancedEq(3*x + 2*y - 5*z + 3*t, 3)\n",
        "eq3 = EnhancedEq(4*x - 3*y + 2*z -5*t, 4)\n",
        "eq4 = EnhancedEq(5*x + 4*y - 3*z + 2*t, 5)"
      ],
      "metadata": {
        "id": "yzp_MeIh-ZbG"
      },
      "execution_count": 91,
      "outputs": []
    },
    {
      "cell_type": "code",
      "source": [
        "print(\"First equation:\")\n",
        "eq1"
      ],
      "metadata": {
        "id": "HvkxavLx_NrQ",
        "outputId": "cf4d388a-6710-492c-aae0-91aaf741a913",
        "colab": {
          "base_uri": "https://localhost:8080/",
          "height": 56
        }
      },
      "execution_count": 92,
      "outputs": [
        {
          "output_type": "stream",
          "name": "stdout",
          "text": [
            "First equation:\n"
          ]
        },
        {
          "output_type": "execute_result",
          "data": {
            "text/plain": [
              "Eq(2*t + 2*x - 3*y + 4*z, 2)"
            ],
            "text/latex": "$\\displaystyle 2 t + 2 x - 3 y + 4 z = 2$"
          },
          "metadata": {},
          "execution_count": 92
        }
      ]
    },
    {
      "cell_type": "code",
      "source": [
        "print(\"Second equation:\")\n",
        "eq2"
      ],
      "metadata": {
        "id": "_5pPJ1iS_TLd",
        "outputId": "d3e5298f-0c64-40e4-dabc-27c6cababa99",
        "colab": {
          "base_uri": "https://localhost:8080/",
          "height": 56
        }
      },
      "execution_count": 93,
      "outputs": [
        {
          "output_type": "stream",
          "name": "stdout",
          "text": [
            "Second equation:\n"
          ]
        },
        {
          "output_type": "execute_result",
          "data": {
            "text/plain": [
              "Eq(3*t + 3*x + 2*y - 5*z, 3)"
            ],
            "text/latex": "$\\displaystyle 3 t + 3 x + 2 y - 5 z = 3$"
          },
          "metadata": {},
          "execution_count": 93
        }
      ]
    },
    {
      "cell_type": "code",
      "source": [
        "print(\"Third equation:\")\n",
        "eq3"
      ],
      "metadata": {
        "id": "Rq3s6Ewg_VU1",
        "outputId": "c54ac06f-4664-4c1c-bf27-65e8d2471700",
        "colab": {
          "base_uri": "https://localhost:8080/",
          "height": 56
        }
      },
      "execution_count": 94,
      "outputs": [
        {
          "output_type": "stream",
          "name": "stdout",
          "text": [
            "Third equation:\n"
          ]
        },
        {
          "output_type": "execute_result",
          "data": {
            "text/plain": [
              "Eq(-5*t + 4*x - 3*y + 2*z, 4)"
            ],
            "text/latex": "$\\displaystyle - 5 t + 4 x - 3 y + 2 z = 4$"
          },
          "metadata": {},
          "execution_count": 94
        }
      ]
    },
    {
      "cell_type": "code",
      "source": [
        "print(\"Fourth equation:\")\n",
        "eq4"
      ],
      "metadata": {
        "id": "slE0l0W4_Zv1",
        "outputId": "7d17879f-d05f-41ff-bb9a-d1c1fc56d578",
        "colab": {
          "base_uri": "https://localhost:8080/",
          "height": 56
        }
      },
      "execution_count": 95,
      "outputs": [
        {
          "output_type": "stream",
          "name": "stdout",
          "text": [
            "Fourth equation:\n"
          ]
        },
        {
          "output_type": "execute_result",
          "data": {
            "text/plain": [
              "Eq(2*t + 5*x + 4*y - 3*z, 5)"
            ],
            "text/latex": "$\\displaystyle 2 t + 5 x + 4 y - 3 z = 5$"
          },
          "metadata": {},
          "execution_count": 95
        }
      ]
    },
    {
      "cell_type": "code",
      "source": [
        "eq5= -2*eq1 + eq3\n",
        "eq5"
      ],
      "metadata": {
        "id": "jlFuHcm4_miB",
        "outputId": "97647296-72a0-421c-d081-6944a64dade5",
        "colab": {
          "base_uri": "https://localhost:8080/",
          "height": 39
        }
      },
      "execution_count": 96,
      "outputs": [
        {
          "output_type": "execute_result",
          "data": {
            "text/plain": [
              "Eq(-9*t + 3*y - 6*z, 0)"
            ],
            "text/latex": "$\\displaystyle - 9 t + 3 y - 6 z = 0$"
          },
          "metadata": {},
          "execution_count": 96
        }
      ]
    },
    {
      "cell_type": "code",
      "source": [
        "eq6= -3/2*eq1 + eq2\n",
        "eq6"
      ],
      "metadata": {
        "id": "7zGuiZn9AASJ",
        "outputId": "b29d7664-ccf0-4f04-b834-c76eda13fadc",
        "colab": {
          "base_uri": "https://localhost:8080/",
          "height": 39
        }
      },
      "execution_count": 97,
      "outputs": [
        {
          "output_type": "execute_result",
          "data": {
            "text/plain": [
              "Eq(6.5*y - 11.0*z, 0)"
            ],
            "text/latex": "$\\displaystyle 6.5 y - 11.0 z = 0$"
          },
          "metadata": {},
          "execution_count": 97
        }
      ]
    },
    {
      "cell_type": "code",
      "source": [
        "eq7= -5/2*eq1 + eq4\n",
        "eq7"
      ],
      "metadata": {
        "id": "DGrz2WUzALw6",
        "outputId": "ff24f452-e1f5-492e-8dec-e3213a895724",
        "colab": {
          "base_uri": "https://localhost:8080/",
          "height": 39
        }
      },
      "execution_count": 98,
      "outputs": [
        {
          "output_type": "execute_result",
          "data": {
            "text/plain": [
              "Eq(-3.0*t + 11.5*y - 13.0*z, 0)"
            ],
            "text/latex": "$\\displaystyle - 3.0 t + 11.5 y - 13.0 z = 0$"
          },
          "metadata": {},
          "execution_count": 98
        }
      ]
    },
    {
      "cell_type": "code",
      "source": [
        "eq8= -3*eq7 + eq5\n",
        "eq8"
      ],
      "metadata": {
        "id": "njMgQPdaAa3V",
        "outputId": "2f300b08-09f4-4861-d941-6dc05f8aff3f",
        "colab": {
          "base_uri": "https://localhost:8080/",
          "height": 39
        }
      },
      "execution_count": 99,
      "outputs": [
        {
          "output_type": "execute_result",
          "data": {
            "text/plain": [
              "Eq(-31.5*y + 33.0*z, 0)"
            ],
            "text/latex": "$\\displaystyle - 31.5 y + 33.0 z = 0$"
          },
          "metadata": {},
          "execution_count": 99
        }
      ]
    },
    {
      "cell_type": "code",
      "source": [
        "eq9= 3*eq6 + eq8\n",
        "eq9\n"
      ],
      "metadata": {
        "id": "fiXRPwGnAml9",
        "outputId": "1573e2b3-0eb0-4ba8-edc3-210392576abb",
        "colab": {
          "base_uri": "https://localhost:8080/",
          "height": 39
        }
      },
      "execution_count": 101,
      "outputs": [
        {
          "output_type": "execute_result",
          "data": {
            "text/plain": [
              "Eq(-12.0*y, 0)"
            ],
            "text/latex": "$\\displaystyle - 12.0 y = 0$"
          },
          "metadata": {},
          "execution_count": 101
        }
      ]
    },
    {
      "cell_type": "code",
      "source": [
        "sol_y = eq9.solve_for(y)[0]\n",
        "sol_y"
      ],
      "metadata": {
        "id": "dFEDkcoNAyp6",
        "outputId": "c003cb8f-99dc-4e54-f59a-4e7e9673b0b2",
        "colab": {
          "base_uri": "https://localhost:8080/",
          "height": 37
        }
      },
      "execution_count": 102,
      "outputs": [
        {
          "output_type": "execute_result",
          "data": {
            "text/plain": [
              "0.0"
            ],
            "text/latex": "$\\displaystyle 0.0$"
          },
          "metadata": {},
          "execution_count": 102
        }
      ]
    },
    {
      "cell_type": "code",
      "source": [
        "eq8 = eq8.substitute(y, sol_y)\n",
        "eq8"
      ],
      "metadata": {
        "id": "B-dr15AhA24s",
        "outputId": "b769084d-9345-439a-fdd6-967af5604814",
        "colab": {
          "base_uri": "https://localhost:8080/",
          "height": 39
        }
      },
      "execution_count": 103,
      "outputs": [
        {
          "output_type": "execute_result",
          "data": {
            "text/plain": [
              "Eq(33.0*z, 0)"
            ],
            "text/latex": "$\\displaystyle 33.0 z = 0$"
          },
          "metadata": {},
          "execution_count": 103
        }
      ]
    },
    {
      "cell_type": "code",
      "source": [
        "sol_z = eq8.solve_for(z)[0]\n",
        "sol_z"
      ],
      "metadata": {
        "id": "_R3CBQtqBF2j",
        "outputId": "3211a733-97d5-4ea3-c8a9-d866823ac702",
        "colab": {
          "base_uri": "https://localhost:8080/",
          "height": 37
        }
      },
      "execution_count": 104,
      "outputs": [
        {
          "output_type": "execute_result",
          "data": {
            "text/plain": [
              "0.0"
            ],
            "text/latex": "$\\displaystyle 0.0$"
          },
          "metadata": {},
          "execution_count": 104
        }
      ]
    },
    {
      "cell_type": "code",
      "source": [
        "eq5= eq5.substitute(z, sol_z)\n",
        "eq5"
      ],
      "metadata": {
        "id": "idM39N4BBN7t",
        "outputId": "b00b801b-aeb9-4ef9-fc0f-d89310a6b3c3",
        "colab": {
          "base_uri": "https://localhost:8080/",
          "height": 39
        }
      },
      "execution_count": 107,
      "outputs": [
        {
          "output_type": "execute_result",
          "data": {
            "text/plain": [
              "Eq(-9*t + 3*y, 0)"
            ],
            "text/latex": "$\\displaystyle - 9 t + 3 y = 0$"
          },
          "metadata": {},
          "execution_count": 107
        }
      ]
    },
    {
      "cell_type": "code",
      "source": [
        "eq5= eq5.substitute(y, sol_y)\n",
        "eq5"
      ],
      "metadata": {
        "id": "tYVXMluaBRB1",
        "outputId": "d8a3e9ec-4b68-4d35-b9dc-a89246d5a367",
        "colab": {
          "base_uri": "https://localhost:8080/",
          "height": 39
        }
      },
      "execution_count": 108,
      "outputs": [
        {
          "output_type": "execute_result",
          "data": {
            "text/plain": [
              "Eq(-9*t, 0)"
            ],
            "text/latex": "$\\displaystyle - 9 t = 0$"
          },
          "metadata": {},
          "execution_count": 108
        }
      ]
    },
    {
      "cell_type": "code",
      "source": [
        "sol_t = eq5.solve_for(t)[0]\n",
        "sol_t"
      ],
      "metadata": {
        "id": "VIZEFcSNBk1H",
        "outputId": "9ae754d3-a48f-4ef8-b27a-8b2f284ff8f6",
        "colab": {
          "base_uri": "https://localhost:8080/",
          "height": 37
        }
      },
      "execution_count": 109,
      "outputs": [
        {
          "output_type": "execute_result",
          "data": {
            "text/plain": [
              "0"
            ],
            "text/latex": "$\\displaystyle 0$"
          },
          "metadata": {},
          "execution_count": 109
        }
      ]
    },
    {
      "cell_type": "code",
      "source": [
        "eq1= eq1.substitute(t, sol_t)\n",
        "eq1"
      ],
      "metadata": {
        "id": "21vxxOzMDWow",
        "outputId": "bed9e756-bac3-4a7c-c581-d130d09f73a1",
        "colab": {
          "base_uri": "https://localhost:8080/",
          "height": 39
        }
      },
      "execution_count": 110,
      "outputs": [
        {
          "output_type": "execute_result",
          "data": {
            "text/plain": [
              "Eq(2*x, 2)"
            ],
            "text/latex": "$\\displaystyle 2 x = 2$"
          },
          "metadata": {},
          "execution_count": 110
        }
      ]
    },
    {
      "cell_type": "code",
      "source": [
        "sol_x = eq1.solve_for(x)[0]\n",
        "sol_x"
      ],
      "metadata": {
        "id": "xfE-ni27DZhO",
        "outputId": "26651b6b-fdb2-419a-8939-86318b5f5ae0",
        "colab": {
          "base_uri": "https://localhost:8080/",
          "height": 37
        }
      },
      "execution_count": 111,
      "outputs": [
        {
          "output_type": "execute_result",
          "data": {
            "text/plain": [
              "1"
            ],
            "text/latex": "$\\displaystyle 1$"
          },
          "metadata": {},
          "execution_count": 111
        }
      ]
    },
    {
      "cell_type": "code",
      "source": [
        "sp.solve([eq1, eq2, eq3, eq4])"
      ],
      "metadata": {
        "id": "zf6GFUHqDdV5",
        "outputId": "2dfe471c-cf47-4074-c9b1-68eee8a51046",
        "colab": {
          "base_uri": "https://localhost:8080/"
        }
      },
      "execution_count": 112,
      "outputs": [
        {
          "output_type": "execute_result",
          "data": {
            "text/plain": [
              "{t: 0, x: 1, y: 0, z: 0}"
            ]
          },
          "metadata": {},
          "execution_count": 112
        }
      ]
    }
  ],
  "metadata": {
    "kernelspec": {
      "display_name": "Python 3",
      "language": "python",
      "name": "python3"
    },
    "language_info": {
      "codemirror_mode": {
        "name": "ipython",
        "version": 3
      },
      "file_extension": ".py",
      "mimetype": "text/x-python",
      "name": "python",
      "nbconvert_exporter": "python",
      "pygments_lexer": "ipython3",
      "version": "3.11.9"
    },
    "colab": {
      "provenance": []
    }
  },
  "nbformat": 4,
  "nbformat_minor": 0
}